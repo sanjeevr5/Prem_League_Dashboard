{
  "nbformat": 4,
  "nbformat_minor": 0,
  "metadata": {
    "colab": {
      "name": "Scraping Premier League Data.ipynb",
      "provenance": [],
      "collapsed_sections": []
    },
    "kernelspec": {
      "name": "python3",
      "display_name": "Python 3"
    }
  },
  "cells": [
    {
      "cell_type": "markdown",
      "metadata": {
        "id": "NB1VLn_x8lXL",
        "colab_type": "text"
      },
      "source": [
        "#1. Scraping Premier League Data \n",
        "> Thanks to Premier League Webiste https://www.premierleague.com <br/>\n",
        "\n",
        "> The collected data is finally put into a Google Data Studio dashboard<br/>\n",
        "\n",
        "> Uses two techniques to collect data 1. Selenium - for dynamically loaded pages 2. Opta API<br/>\n",
        "\n",
        "> Scraping to get player data, team related data and the player statistics<br/>\n",
        "\n",
        "> Collects data between 2015-2016 and 2019-2020 season\n"
      ]
    },
    {
      "cell_type": "markdown",
      "metadata": {
        "id": "OaIRr25_9vfJ",
        "colab_type": "text"
      },
      "source": [
        "## 1.1 Loading Modules"
      ]
    },
    {
      "cell_type": "code",
      "metadata": {
        "id": "A8nUNaqx2xhP",
        "colab_type": "code",
        "colab": {}
      },
      "source": [
        "%%capture\n",
        "!pip install selenium\n",
        "from selenium import webdriver\n",
        "!wget https://bitbucket.org/ariya/phantomjs/downloads/phantomjs-2.1.1-linux-x86_64.tar.bz2\n",
        "!tar xvjf phantomjs-2.1.1-linux-x86_64.tar.bz2\n",
        "!cp phantomjs-2.1.1-linux-x86_64/bin/phantomjs /usr/local/bin\n",
        "#!ls -al\n",
        "driver = webdriver.PhantomJS('phantomjs')\n",
        "import re\n",
        "from bs4 import BeautifulSoup\n",
        "from tqdm import tqdm\n",
        "import pandas as pd"
      ],
      "execution_count": 0,
      "outputs": []
    },
    {
      "cell_type": "markdown",
      "metadata": {
        "id": "x4j3u-vS9zl4",
        "colab_type": "text"
      },
      "source": [
        "##1.2 Makes use of API to scrape data"
      ]
    },
    {
      "cell_type": "code",
      "metadata": {
        "id": "mmjyNNnROKDY",
        "colab_type": "code",
        "colab": {}
      },
      "source": [
        "import requests\n",
        "import pandas as pd\n",
        "import json\n",
        "from tqdm import tqdm\n",
        "\n",
        "class ScrapPremData:\n",
        "  \"\"\" This class gets the data from the premier league website \"\"\"\n",
        " \n",
        "  def getPlayersData(self, season_details, url, header, queryParams):\n",
        "\n",
        "    \"\"\" Gets player bio data\"\"\"\n",
        "\n",
        "    column_names = ['Season_Id', 'Player_Id', 'Position', 'ShirtNum', 'PositionInfo', 'Country', 'Club', 'Team_Id', 'DOB', 'Age', 'Name']\n",
        "    season_full = []\n",
        "\n",
        "    for season in tqdm(season_details.keys()):\n",
        "\n",
        "        s = season_details[season]\n",
        "\n",
        "        for season_page in range(0,10):\n",
        "          ## Start of block 1 ##  \n",
        "          season_temp = []\n",
        "          queryParams['page'] = season_page\n",
        "          try:\n",
        "            response = requests.get(url = url, headers = header, params = queryParams)\n",
        "            if response.status_code == 200:\n",
        "              data = json.loads(response.text)\n",
        "            else:\n",
        "              break\n",
        "          except Exception as e: print(e)\n",
        "          ## End of block 1 ##\n",
        "\n",
        "          ## Start of block 2 ##\n",
        "          \n",
        "          if len(data['content']) > 0:\n",
        "            for player in data[\"content\"]:\n",
        "              try:  \n",
        "                  player_id = int(player['id'])\n",
        "                  position = player['info']['position']\n",
        "                  shirtNum = int(player['info']['shirtNum'])\n",
        "                  positionInfo = player['info']['positionInfo']\n",
        "                  country = player['nationalTeam']['country']\n",
        "                  club = player['currentTeam']['name']\n",
        "                  team_id = int(player['currentTeam']['id'])\n",
        "                  dob = player['birth']['date']['label']\n",
        "                  age = player['age']\n",
        "                  name = player['name']['display']\n",
        "                  season_temp.append([s, player_id, position, shirtNum, positionInfo, country, club, team_id, dob, age, name])\n",
        "              except: pass\n",
        "          else:\n",
        "            break\n",
        "          season_full += season_temp\n",
        "          ## End of block 2 ##\n",
        "      \n",
        "    df = pd.DataFrame(season_full, columns = column_names)\n",
        "    return df\n",
        "\n",
        "  def getTeamsData(self, season_details, url, header, params):\n",
        "\n",
        "    \"\"\" Gets teams related data\"\"\"\n",
        "\n",
        "    column_names = ['Season_Id','Team_Name', 'Team_Id', 'Ground', 'City', 'Capacity']\n",
        "    season_full = []\n",
        "    for season in tqdm(season_details.keys()):\n",
        "      s = season_details[season]\n",
        "      ## Start of block 1 ##\n",
        "      try:\n",
        "        response = requests.get(url = url, headers = header, params = queryParams)\n",
        "        if response.status_code == 200:\n",
        "          data = json.loads(response.text)\n",
        "        else:\n",
        "          break\n",
        "      except Exception as e: print(e)\n",
        "      ## End of block 1 ##\n",
        "\n",
        "      ## Start of block 2 ##\n",
        "          \n",
        "      if len(data['content']) > 0:\n",
        "        for team in data['content']:\n",
        "          try:\n",
        "            Team_Name = team['name']\n",
        "            Team_Id = int(team['club']['id'])\n",
        "            ground = team['grounds'][0]['name']\n",
        "            city = team['grounds'][0]['city']\n",
        "            capacity = int(team['grounds'][0]['capacity'])\n",
        "            season_full.append([s, Team_Name, Team_Id, ground, city, capacity])\n",
        "          except: pass\n",
        "    return pd.DataFrame(season_full, columns = column_names)\n",
        "\n",
        "  def getPlayerStats(self, season_details, player_df, header, queryParams):\n",
        "\n",
        "    \"\"\" Gets player statistics data \n",
        "        Empty columns were handles as -1 for clarity\n",
        "    \"\"\"\n",
        "\n",
        "    full_details = []\n",
        "    column_names = []\n",
        "    for index, row in tqdm(player_df.iterrows()):\n",
        "      url = \"https://footballapi.pulselive.com/football/stats/player/\"+str(row['Player_Id'])\n",
        "      queryParams['compSeasons'] = list(season_details.keys())[list(season_details.values()).index(row['Season_Id'])]\n",
        "      response = requests.get(url = url, headers = header, params = queryParams)\n",
        "      if response.status_code == 200:\n",
        "        try:\n",
        "          data = json.loads(response.text)\n",
        "          if len(data['stats']) > 0:\n",
        "            data1 = {i['name'] : i['value'] for i in data['stats']}\n",
        "            data1['Player_Id'] = row['Player_Id']; data1['Season_Id'] = season_details[queryParams['compSeasons']]\n",
        "            full_details.append(data1)\n",
        "          else:\n",
        "            pass\n",
        "        except Exception as e:\n",
        "          pass\n",
        "      else:\n",
        "          pass\n",
        "    return pd.DataFrame.from_dict(full_details).fillna(-1)\n",
        "\n",
        "  "
      ],
      "execution_count": 0,
      "outputs": []
    },
    {
      "cell_type": "markdown",
      "metadata": {
        "id": "dRQTp2JC-Q1i",
        "colab_type": "text"
      },
      "source": [
        "## 1.3 Scraping player's bio data"
      ]
    },
    {
      "cell_type": "code",
      "metadata": {
        "id": "hKi3ZtFPZ1ZV",
        "colab_type": "code",
        "outputId": "af50e9d2-eccb-4fec-89b9-2d3c493a1a3d",
        "colab": {
          "base_uri": "https://localhost:8080/",
          "height": 34
        }
      },
      "source": [
        "header = {\n",
        "      \"content-Type\": \"application/x-www-form-urlencoded; charset=UTF-8\",\n",
        "      \"DNT\": \"1\",\n",
        "      \"Origin\": \"https://www.premierleague.com\",\n",
        "      \"Referer\": \"https://www.premierleague.com/players\",\n",
        "      \"User-Agent\": \"Mozilla/5.0 (Windows NT 10.0; Win64; x64) AppleWebKit/537.36 (KHTML, like Gecko) Chrome/75.0.3770.100 Safari/537.36\"\n",
        "    }\n",
        "queryParams = {\n",
        "    \"pageSize\": 200,\n",
        "    \"compSeasons\": 274,\n",
        "    \"altIds\": True,\n",
        "    \"type\": \"player\",\n",
        "    \"id\": -1,\n",
        "    \"compSeasonId\": 274\n",
        "}\n",
        "season_details = {42 : '2015-2016', 54 : '2016-2017', 79 : '2017-2018', 210 : '2018-2019', 274 : '2019-2020'}\n",
        "player_details = ScrapPremData().getPlayersData(season_details, \"https://footballapi.pulselive.com/football/players\", header, queryParams)\n",
        "\n",
        "\n",
        "\n",
        "player_details.to_csv('Prem_players.csv', sep = '|', index = False)\n",
        "\n",
        "#from google.colab import drive\n",
        "#drive.mount('/content/drive')\n",
        "#!cp Prem_players.csv \"/content/drive/My Drive/\""
      ],
      "execution_count": 0,
      "outputs": [
        {
          "output_type": "stream",
          "text": [
            "100%|██████████| 5/5 [00:32<00:00,  6.45s/it]\n"
          ],
          "name": "stderr"
        }
      ]
    },
    {
      "cell_type": "markdown",
      "metadata": {
        "id": "l22Q6VCT-hpt",
        "colab_type": "text"
      },
      "source": [
        "## 1.4 Scraping team related data"
      ]
    },
    {
      "cell_type": "code",
      "metadata": {
        "id": "b35IRu61iTMl",
        "colab_type": "code",
        "outputId": "c4b054bf-3ee3-49b7-bf00-a1fc040fdbbb",
        "colab": {
          "base_uri": "https://localhost:8080/",
          "height": 34
        }
      },
      "source": [
        "header = {\n",
        "      \"content-Type\": \"application/x-www-form-urlencoded; charset=UTF-8\",\n",
        "      \"DNT\": \"1\",\n",
        "      \"Origin\": \"https://www.premierleague.com\",\n",
        "      \"Referer\": \"https://www.premierleague.com/players\",\n",
        "      \"User-Agent\": \"Mozilla/5.0 (Windows NT 10.0; Win64; x64) AppleWebKit/537.36 (KHTML, like Gecko) Chrome/75.0.3770.100 Safari/537.36\"\n",
        "    }\n",
        "queryParams = {\n",
        "    \"pageSize\": 100,\n",
        "    \"altIds\": True,\n",
        "    \"page\": 0,\n",
        "    \"type\": \"player\",\n",
        "    \"compCodeForActivePlayer\": -1,\n",
        "    \"comps\" : 1\n",
        "}\n",
        "\n",
        "team_details = ScrapPremData().getTeamsData(season_details, \"https://footballapi.pulselive.com/football/teams\", header, queryParams)\n",
        "\n",
        "team_details.to_csv('team_details.csv', sep = '|', index = False)\n",
        "\n",
        "#from google.colab import drive\n",
        "#drive.mount('/content/drive')\n",
        "#!cp team_details.csv \"/content/drive/My Drive/\""
      ],
      "execution_count": 0,
      "outputs": [
        {
          "output_type": "stream",
          "text": [
            "100%|██████████| 5/5 [00:00<00:00,  7.23it/s]\n"
          ],
          "name": "stderr"
        }
      ]
    },
    {
      "cell_type": "markdown",
      "metadata": {
        "id": "m42Ewnis-pqb",
        "colab_type": "text"
      },
      "source": [
        "##1.5 Scraping player's statistics"
      ]
    },
    {
      "cell_type": "code",
      "metadata": {
        "id": "YKY9QO78jBkK",
        "colab_type": "code",
        "colab": {}
      },
      "source": [
        "header = {\n",
        "      \"content-Type\": \"application/x-www-form-urlencoded; charset=UTF-8\",\n",
        "      \"DNT\": \"1\",\n",
        "      \"Origin\": \"https://www.premierleague.com\",\n",
        "      \"Referer\": \"https://www.premierleague.com/players\",\n",
        "      \"User-Agent\": \"Mozilla/5.0 (Windows NT 10.0; Win64; x64) AppleWebKit/537.36 (KHTML, like Gecko) Chrome/75.0.3770.100 Safari/537.36\"\n",
        "    }\n",
        "queryParams = {\n",
        "    \"co\": 1\n",
        "}\n",
        "\n",
        "player_stats = ScrapPremData().getPlayerStats(season_details, player_details, header, queryParams)\n",
        "\n",
        "player_stats.to_csv('player_stats.csv', sep = '|', index = False)\n",
        "\n",
        "#from google.colab import drive\n",
        "#drive.mount('/content/drive')\n",
        "#!cp team_details.csv \"/content/drive/My Drive/\""
      ],
      "execution_count": 0,
      "outputs": []
    },
    {
      "cell_type": "markdown",
      "metadata": {
        "id": "lTIXNslt-tro",
        "colab_type": "text"
      },
      "source": [
        "##1.6 Post processing player statistics with (football knowledge)\n",
        "> A few post processing techniques for easy data loading"
      ]
    },
    {
      "cell_type": "code",
      "metadata": {
        "id": "STIISpUKBc-o",
        "colab_type": "code",
        "colab": {}
      },
      "source": [
        "player_stats_processed = pd.DataFrame()\n",
        "player_stats_processed['Player_Id'] = player_stats['Player_Id']\n",
        "player_stats_processed['Season_Id'] = player_stats['Season_Id']\n",
        "# Attack\n",
        "player_stats_processed['pass_percent'] = (player_stats['accurate_pass'] / player_stats['total_pass'])*100\n",
        "player_stats_processed['cross_percent'] = (player_stats['accurate_cross']/player_stats['total_cross'])*100\n",
        "player_stats_processed['free_kicks_goals'] = player_stats['att_freekick_goal']\n",
        "player_stats_processed['big_chances_created'] =  player_stats['big_chance_created'] + player_stats['big_chance_scored']\n",
        "player_stats_processed['big_chances_missed'] =   player_stats['big_chance_missed']\n",
        "player_stats_processed['goals'] = player_stats['goals']\n",
        "player_stats_processed['goal_assist'] = player_stats['goal_assist']\n",
        "player_stats_processed['touches'] = player_stats['touches']\n",
        "# Defence\n",
        "player_stats_processed['ariel_success_percent'] = (player_stats['aerial_won']/ (player_stats['aerial_won'] + player_stats['aerial_lost']))*100\n",
        "player_stats_processed['total_recoveries_blocks'] = player_stats['ball_recovery'] + player_stats['blocked_cross'] + player_stats['blocked_pass'] + player_stats['blocked_scoring_att']\n",
        "player_stats_processed['interception'] = player_stats['interception_won'] + player_stats['interceptions_in_box']\n",
        "player_stats_processed['successful_contest_percent'] = (player_stats['won_contest'] / player_stats['total_contest'])*100\n",
        "player_stats_processed['successful_tackles_percent'] = (player_stats['won_tackle'] / player_stats['total_tackle'])*100\n",
        "player_stats_processed['last_man_tackle'] = player_stats['last_man_tackle']\n",
        "player_stats_processed['clean_sheet'] = player_stats['clean_sheet']\n",
        "player_stats_processed['effective_clearances'] = player_stats['effective_clearance'] + player_stats['effective_head_clearance']\n",
        "# GK\n",
        "player_stats_processed['successful_dive_saves'] = player_stats['dive_catch'] + player_stats['dive_save'] + player_stats['diving_save']\n",
        "player_stats_processed['keeper_throws'] = player_stats['keeper_throws']\n",
        "player_stats_processed['penalty_faced'] = player_stats['penalty_faced']\n",
        "player_stats_processed['penalty_save'] = player_stats['penalty_save']\n",
        "player_stats_processed['pen_goals_conceded'] = player_stats['pen_goals_conceded']\n",
        "player_stats_processed['punches'] = player_stats['punches']\n",
        "player_stats_processed['saves'] = player_stats['saves']\n",
        "player_stats_processed['standing_saves'] = player_stats['stand_catch'] + player_stats['stand_save']\n",
        "player_stats_processed['accurate_goal_kicks'] = player_stats['accurate_goal_kicks']\n",
        "player_stats_processed['accurate_keeper_sweeper'] = player_stats['accurate_keeper_sweeper']\n",
        "player_stats_processed['accurate_keeper_throws'] = player_stats['accurate_keeper_throws']\n",
        "player_stats_processed['keeper_pick_up'] = player_stats['keeper_pick_up']\n",
        "\n",
        "#General\n",
        "player_stats_processed['appearances'] = player_stats['appearances']\n",
        "player_stats_processed['draws'] = player_stats['draws']\n",
        "player_stats_processed['game_started'] = player_stats['game_started']\n",
        "player_stats_processed['losses'] = player_stats['losses']\n",
        "player_stats_processed['mins_played'] = player_stats['mins_played']\n",
        "player_stats_processed['wins'] = player_stats['wins']\n",
        "player_stats_processed['total_sub_off'] = player_stats['total_sub_off']\n",
        "player_stats_processed['total_sub_on'] = player_stats['total_sub_on']\n",
        "player_stats_processed['total_distance_in_m'] = player_stats['total_distance_in_m']\n",
        "player_stats_processed['was_fouled'] = player_stats['was_fouled']\n",
        "#Discipline\n",
        "player_stats_processed['dangerous_play'] = player_stats['dangerous_play']\n",
        "player_stats_processed['dispossessed'] = player_stats['dispossessed']\n",
        "player_stats_processed['fouls'] = player_stats['fouls']\n",
        "player_stats_processed['own_goals'] = player_stats['own_goals']\n",
        "player_stats_processed['red_card'] = player_stats['red_card']\n",
        "player_stats_processed['yellow_card'] = player_stats['yellow_card']"
      ],
      "execution_count": 0,
      "outputs": []
    },
    {
      "cell_type": "code",
      "metadata": {
        "id": "wmYyKuQ-oeV5",
        "colab_type": "code",
        "colab": {}
      },
      "source": [
        "player_stats_final = pd.DataFrame()\n",
        "player_stats_final['Season_Id'] = player_stats_processed['Season_Id']\n",
        "num = player_stats_processed._get_numeric_data()\n",
        "num = num.clip(lower = 0)\n",
        "player_stats_final = pd.concat([player_stats_final, num], axis = 1)\n",
        "player_stats_final_temp = player_stats_final[['pass_percent',\t'cross_percent', 'ariel_success_percent', 'successful_contest_percent', 'successful_tackles_percent']]\n",
        "player_stats_final.drop(columns = ['pass_percent',\t'cross_percent', 'ariel_success_percent', 'successful_contest_percent', 'successful_tackles_percent'], inplace = False)\n",
        "player_stats_final_temp[player_stats_final_temp >= 100] = 0\n",
        "player_stats_final_temp = player_stats_final_temp.apply(lambda x : round(x,2))\n",
        "player_stats_final = pd.concat([player_stats_final, player_stats_final_temp], axis = 1)\n",
        "player_stats_final.to_csv('player_stats_final.csv', sep = '|', index = False)"
      ],
      "execution_count": 0,
      "outputs": []
    },
    {
      "cell_type": "markdown",
      "metadata": {
        "id": "5vJDVTelcy_M",
        "colab_type": "text"
      },
      "source": [
        "## 1.7 Getting some more data related to player's history and psychique - Uses SELENIUM"
      ]
    },
    {
      "cell_type": "code",
      "metadata": {
        "id": "af84DOfxSxjf",
        "colab_type": "code",
        "colab": {}
      },
      "source": [
        "from collections import namedtuple\n",
        "import time\n",
        "from selenium import webdriver\n",
        "from selenium.webdriver.common.desired_capabilities import DesiredCapabilities\n",
        "import warnings \n",
        "warnings.filterwarnings(\"ignore\")\n",
        "\n",
        "dcap = dict(DesiredCapabilities.PHANTOMJS)\n",
        "dcap[\"phantomjs.page.settings.userAgent\"] = (\n",
        "\"Mozilla/5.0 (X11; Linux x86_64) AppleWebKit/53 \"\n",
        "\"(KHTML, like Gecko) Chrome/15.0.87\")\n",
        "\n",
        "driver = webdriver.PhantomJS(desired_capabilities=dcap)\n",
        "\n",
        "season_overview_stats = namedtuple('season_overview_stats',['Appearances', 'Goals', 'Losses', 'Wins'])\n",
        "player_basic_details = namedtuple('player_basic_details',['Player_Id', 'DP', 'Country', 'DOB', 'Height'])\n",
        "\n",
        "def get_basic_player_details(URL):\n",
        "  driver.get(URL)\n",
        "  bpd = driver.find_element_by_xpath('//*[@id=\"mainContent\"]/section/div[2]/div[1]')\n",
        "  time.sleep(1)\n",
        "  p_id = re.findall(r'\\d+', URL)[0]\n",
        "  dp = BeautifulSoup(bpd.get_attribute('innerHTML')).findAll('img')[0]['src']\n",
        "  pl = driver.find_element_by_class_name('personalLists')\n",
        "  try:\n",
        "    c, d, h, w = [i.text.replace('\\n', '').strip() for i in BeautifulSoup(pl.get_attribute('innerHTML')).findAll(\"div\", {'class': 'info'})]\n",
        "  except:\n",
        "    c, d, h = [i.text.replace('\\n', '').strip() for i in BeautifulSoup(pl.get_attribute('innerHTML')).findAll(\"div\", {'class': 'info'})]\n",
        "  return player_basic_details(p_id, dp, c, d, h)\n",
        "  \n",
        "#get_basic_player_details('https://www.premierleague.com/players/13279/player/overview')\n",
        "\n",
        "def season_wise_overview(URL):\n",
        "  driver = webdriver.PhantomJS(desired_capabilities=dcap)\n",
        "  driver.get(URL)\n",
        "  pg = driver.find_element_by_xpath('//*[@id=\"mainContent\"]/div[3]/div/div/div[3]/table/tbody')\n",
        "  team_details = BeautifulSoup(pg.get_attribute('innerHTML'))\n",
        "  season = [i.text for i in team_details.findAll('td', {'class': 'season'})]\n",
        "  season_teams = {s:a for s, a in zip(season, [i.text.strip('\\n').strip() for i in team_details.findAll('span', {'class': 'long'})])}\n",
        "  p_id = re.findall(r'\\d+', URL)[0]\n",
        "  return season_teams\n",
        "#season_wise_overview('https://www.premierleague.com/players/13279/player/overview')\n",
        "\n",
        "season_overview_stats = namedtuple('season_overview_stats',['Appearances', 'Goals', 'Losses', 'Wins'])\n",
        "\"\"\"---------------------------------Unused-------------------------------------\"\"\"\n",
        "def player_season_stats(URL):\n",
        "  driver.get(URL)\n",
        "  time.sleep(2)\n",
        "  ss= driver.find_element_by_xpath('//*[@id=\"mainContent\"]/div[3]/div/div/div[2]/div/div/div')\n",
        "  return season_overview_stats(*(i.text.replace('\\n','').split()[1] for i in BeautifulSoup(ss.get_attribute('innerHTML')).findAll('span', {'class':'stat'})))\n",
        "\n",
        "#player_season_stats('https://www.premierleague.com/players/13279/player/stats?co=1&se=274')\n",
        "\n",
        "\n",
        "def full_player_stats(URL):\n",
        "  driver.get(URL)\n",
        "  time.sleep(2)\n",
        "  ss= driver.find_element_by_xpath('//*[@id=\"mainContent\"]/div[3]/div/div/div[2]/div/div/ul')\n",
        "  return {re.split(r'\\s{2,}',i.text.replace('\\n','').strip())[0]:re.split(r'\\s{2,}',i.text.replace('\\n','').strip())[1] for i in BeautifulSoup(ss.get_attribute('innerHTML')).findAll('div', {'class':'normalStat'})}\n",
        "#full_player_stats('https://www.premierleague.com/players/13279/player/stats?co=1&se=274')\n",
        "\"\"\"---------------------------------Unused-------------------------------------\"\"\""
      ],
      "execution_count": 0,
      "outputs": []
    },
    {
      "cell_type": "code",
      "metadata": {
        "id": "kv7v-ONsq1R2",
        "colab_type": "code",
        "outputId": "098d2bb0-d751-41e7-bee2-08559d761219",
        "colab": {
          "base_uri": "https://localhost:8080/",
          "height": 34
        }
      },
      "source": [
        "def create_player_stats_data(player_ids):\n",
        "  basic_player_data = []\n",
        "  season_wise_overview_data = dict()\n",
        "  for player_id in tqdm(player_ids):\n",
        "    try:\n",
        "      basic_player_data.append(get_basic_player_details('https://www.premierleague.com/players/{0}/player/overview'.format(player_id)))\n",
        "      season_wise_overview_data[player_id] = season_wise_overview('https://www.premierleague.com/players/{0}/player/overview'.format(player_id))\n",
        "    except:\n",
        "      pass\n",
        "  return basic_player_data, season_wise_overview_data\n",
        "\n",
        "basic_player_data, season_wise_overview_data = create_player_stats_data(set(player_details.Player_Id))"
      ],
      "execution_count": 0,
      "outputs": [
        {
          "output_type": "stream",
          "text": [
            "100%|██████████| 659/659 [1:11:41<00:00,  6.53s/it]\n"
          ],
          "name": "stderr"
        }
      ]
    },
    {
      "cell_type": "code",
      "metadata": {
        "id": "BCMe1ojK-n3e",
        "colab_type": "code",
        "colab": {}
      },
      "source": [
        "#------------------------- Some data cleaning in the basic data ------------------------------------\n",
        "basic_player_data_df = pd.DataFrame(basic_player_data)\n",
        "basic_player_data_df.Player_Id = basic_player_data_df.Player_Id.apply(int)"
      ],
      "execution_count": 0,
      "outputs": []
    },
    {
      "cell_type": "code",
      "metadata": {
        "id": "_t4A0Synlxrq",
        "colab_type": "code",
        "colab": {}
      },
      "source": [
        "#------------------------- Merging columns to make it unnormalized for data loading into data studio ------------------------------------\n",
        "season_wise_overview_data_df = pd.DataFrame.from_dict(season_wise_overview_data, orient = 'index')\n",
        "season_wise_overview_data_df.index.rename('Player_Id', inplace = True)\n",
        "season_wise_overview_data_df = season_wise_overview_data_df[sorted(season_wise_overview_data_df.columns)[-5:]].reset_index()\n",
        "season_wise_overview_data_df = pd.melt(season_wise_overview_data_df, id_vars=['Player_Id'])\n",
        "season_wise_overview_data_df.variable = season_wise_overview_data_df.variable.apply(lambda x : x.replace('/', '-'))"
      ],
      "execution_count": 0,
      "outputs": []
    },
    {
      "cell_type": "code",
      "metadata": {
        "id": "ZZsdmkKCopRX",
        "colab_type": "code",
        "colab": {}
      },
      "source": [
        "#------------------------- A few more added details and exporting the unnormalized data ------------------------------------\n",
        "player_stats_final = pd.read_csv('player_stats_final.csv', sep = ',')\n",
        "unormalized_data = player_stats_final.merge(basic_player_data_df, how = 'left', on = 'Player_Id')\n",
        "unormalized_data = unormalized_data.merge(player_details[['Player_Id', 'Name', 'PositionInfo', 'ShirtNum']], how = 'left', on = 'Player_Id').drop_duplicates()\n",
        "unormalized_data = unormalized_data.merge(season_wise_overview_data_df, how = 'left', left_on = ['Player_Id', 'Season_Id'], right_on = ['Player_Id', 'variable'])\n",
        "unormalized_data.to_csv('data.csv', sep = ',', index = False)"
      ],
      "execution_count": 0,
      "outputs": []
    }
  ]
}